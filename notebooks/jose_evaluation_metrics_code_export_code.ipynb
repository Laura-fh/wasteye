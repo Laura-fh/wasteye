{
 "cells": [
  {
   "cell_type": "markdown",
   "id": "c1055c3c",
   "metadata": {},
   "source": [
    "## Model Validation with Ultralytics YOLO"
   ]
  },
  {
   "cell_type": "code",
   "execution_count": null,
   "id": "20885a3d",
   "metadata": {},
   "outputs": [],
   "source": [
    "from ultralytics import YOLO\n",
    "\n",
    "model = YOLO(\"pathxs/best.pt\")\n",
    "metrics = model.val()\n",
    "\n",
    "print(metrics)"
   ]
  },
  {
   "cell_type": "markdown",
   "id": "a2c805a7",
   "metadata": {},
   "source": [
    "## Arguments for YOLO Model Validation"
   ]
  },
  {
   "cell_type": "markdown",
   "id": "0d540c68",
   "metadata": {},
   "source": [
    "### overfitting "
   ]
  },
  {
   "cell_type": "markdown",
   "id": "3ce7c098",
   "metadata": {},
   "source": [
    "L2 Regularization (Weight Decay)"
   ]
  },
  {
   "cell_type": "markdown",
   "id": "4759e46d",
   "metadata": {},
   "source": [
    "A typical value for weight_decay is 0.0005. You can experiment with lower (0.0001) or higher (0.001) values to see what works best."
   ]
  },
  {
   "cell_type": "code",
   "execution_count": null,
   "id": "92a31af4",
   "metadata": {},
   "outputs": [],
   "source": [
    "yolo train model=yolov8s.pt data=dataset.yaml epochs=100 lr0=0.01 weight_decay=0.0005\n"
   ]
  },
  {
   "cell_type": "markdown",
   "id": "28cbf974",
   "metadata": {},
   "source": [
    "Limits the maximum number of detections per image. Useful in dense scenes to prevent excessive detections and manage computational resources."
   ]
  },
  {
   "cell_type": "code",
   "execution_count": null,
   "id": "948c656e",
   "metadata": {},
   "outputs": [],
   "source": [
    "max_det"
   ]
  },
  {
   "cell_type": "markdown",
   "id": "885edb7c",
   "metadata": {},
   "source": [
    "Early Stopping"
   ]
  },
  {
   "cell_type": "markdown",
   "id": "5cfe1422",
   "metadata": {},
   "source": [
    "Prevent overtraining by enabling patience, which stops training if validation performance stops improving:\n",
    "If validation does not improve after 50 epochs, training will stop."
   ]
  },
  {
   "cell_type": "code",
   "execution_count": null,
   "id": "346bf960",
   "metadata": {},
   "outputs": [],
   "source": [
    "yolo train model=yolov8s.pt data=dataset.yaml epochs=300 patience=50"
   ]
  },
  {
   "cell_type": "markdown",
   "id": "4e8dd521",
   "metadata": {},
   "source": []
  },
  {
   "cell_type": "markdown",
   "id": "63ba15b6",
   "metadata": {},
   "source": [
    "Sets the minimum confidence threshold for detections. \n",
    "Lower values increase recall but may introduce more false positives. \n",
    "Used during validation to compute precision-recall curves"
   ]
  },
  {
   "cell_type": "code",
   "execution_count": 1,
   "id": "92a608aa",
   "metadata": {},
   "outputs": [
    {
     "ename": "SyntaxError",
     "evalue": "invalid syntax (1442041038.py, line 1)",
     "output_type": "error",
     "traceback": [
      "\u001b[0;36m  Cell \u001b[0;32mIn[1], line 1\u001b[0;36m\u001b[0m\n\u001b[0;31m    conf\tfloat\t0.001\u001b[0m\n\u001b[0m        \t^\u001b[0m\n\u001b[0;31mSyntaxError\u001b[0m\u001b[0;31m:\u001b[0m invalid syntax\n"
     ]
    }
   ],
   "source": [
    "#float\n",
    "conf = 0.001"
   ]
  },
  {
   "cell_type": "markdown",
   "id": "4e7bcda0",
   "metadata": {},
   "source": [
    "The iou parameter defines how strictly the model removes duplicate detections. \n",
    "Try using higher values (such as 0.6 or 0.7) to eliminate more overlapping boxes."
   ]
  },
  {
   "cell_type": "code",
   "execution_count": null,
   "id": "d1db268b",
   "metadata": {},
   "outputs": [],
   "source": [
    "iou = 0.6"
   ]
  },
  {
   "cell_type": "markdown",
   "id": "926ea81f",
   "metadata": {},
   "source": [
    "Enables half-precision (FP16) computation, reducing memory usage and potentially increasing speed with minimal impact on accuracy."
   ]
  },
  {
   "cell_type": "code",
   "execution_count": 3,
   "id": "70a88941",
   "metadata": {},
   "outputs": [],
   "source": [
    "#bool\n",
    "half=True"
   ]
  },
  {
   "cell_type": "code",
   "execution_count": null,
   "id": "61231805",
   "metadata": {},
   "outputs": [],
   "source": []
  },
  {
   "cell_type": "code",
   "execution_count": null,
   "id": "0597794c",
   "metadata": {},
   "outputs": [],
   "source": []
  },
  {
   "cell_type": "code",
   "execution_count": null,
   "id": "961d43b0",
   "metadata": {},
   "outputs": [],
   "source": []
  },
  {
   "cell_type": "code",
   "execution_count": null,
   "id": "689760d2",
   "metadata": {},
   "outputs": [],
   "source": []
  },
  {
   "cell_type": "code",
   "execution_count": null,
   "id": "c1c08a2d",
   "metadata": {},
   "outputs": [],
   "source": []
  },
  {
   "cell_type": "code",
   "execution_count": null,
   "id": "53ccf79a",
   "metadata": {},
   "outputs": [],
   "source": []
  },
  {
   "cell_type": "code",
   "execution_count": null,
   "id": "2571c983",
   "metadata": {},
   "outputs": [],
   "source": []
  },
  {
   "cell_type": "code",
   "execution_count": null,
   "id": "349380b4",
   "metadata": {},
   "outputs": [],
   "source": []
  }
 ],
 "metadata": {
  "kernelspec": {
   "display_name": "Python 3 (ipykernel)",
   "language": "python",
   "name": "python3"
  },
  "language_info": {
   "codemirror_mode": {
    "name": "ipython",
    "version": 3
   },
   "file_extension": ".py",
   "mimetype": "text/x-python",
   "name": "python",
   "nbconvert_exporter": "python",
   "pygments_lexer": "ipython3",
   "version": "3.10.6"
  },
  "toc": {
   "base_numbering": 1,
   "nav_menu": {},
   "number_sections": true,
   "sideBar": true,
   "skip_h1_title": false,
   "title_cell": "Table of Contents",
   "title_sidebar": "Contents",
   "toc_cell": false,
   "toc_position": {},
   "toc_section_display": true,
   "toc_window_display": false
  }
 },
 "nbformat": 4,
 "nbformat_minor": 5
}
